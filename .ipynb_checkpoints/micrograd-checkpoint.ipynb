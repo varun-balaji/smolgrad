{
 "cells": [
  {
   "cell_type": "code",
   "execution_count": 1,
   "id": "59247ace-cecf-4e91-a5fb-85fb3efe9752",
   "metadata": {
    "editable": true,
    "slideshow": {
     "slide_type": ""
    },
    "tags": []
   },
   "outputs": [],
   "source": [
    "import math\n",
    "import numpy as np\n",
    "import matplotlib.pyplot as plt\n",
    "%matplotlib inline"
   ]
  },
  {
   "cell_type": "code",
   "execution_count": 2,
   "id": "bf0d33da-31d3-4498-9c6f-98b2cc39b893",
   "metadata": {},
   "outputs": [],
   "source": [
    "# Every operation needs to be propogated backwards with its derivative\n",
    "# Value class needs the value that holds a float\n",
    "# - needs to overload the ops\n",
    "# - needs to be able to get the grad of the final output wrt the current value"
   ]
  },
  {
   "cell_type": "code",
   "execution_count": 3,
   "id": "ad140268-bb02-4d30-85da-2ec87d7be997",
   "metadata": {},
   "outputs": [
    {
     "data": {
      "text/plain": [
       "[<matplotlib.lines.Line2D at 0x70bf10e26fd0>]"
      ]
     },
     "execution_count": 3,
     "metadata": {},
     "output_type": "execute_result"
    },
    {
     "data": {
      "image/png": "[encoded data removed]",
      "text/plain": [
       "<Figure size 640x480 with 1 Axes>"
      ]
     },
     "metadata": {},
     "output_type": "display_data"
    }
   ],
   "source": [
    "def f(x):\n",
    "    return 2 * (x ** 2) + 3\n",
    "\n",
    "xs = np.arange(-5, 5, 0.25)\n",
    "ys = f(xs)\n",
    "plt.plot(xs, ys)"
   ]
  },
  {
   "cell_type": "code",
   "execution_count": 79,
   "id": "f1bb25ef-c397-4806-b7ba-be29c85f1ba3",
   "metadata": {},
   "outputs": [],
   "source": [
    "class Value:\n",
    "    def __init__(self, data, _children = (), _op = \"\", label = \"_no_label_\", op_der = lambda: None):\n",
    "        # Only two children for now and one operation\n",
    "        self.data = data\n",
    "        self.op_der = op_der\n",
    "        self.grad = 0.0\n",
    "        self.children = set(_children)\n",
    "        self.op = _op\n",
    "        self.label = label\n",
    "\n",
    "    def __repr__(self):\n",
    "        return f\"Value(data = {self.data}, _children = {self.children}, _op = {self.op})\"\n",
    "\n",
    "    def __add__(self, other):\n",
    "        if not isinstance(other, Value):\n",
    "            other = Value(other)\n",
    "            \n",
    "        out = Value(self.data + other.data, (self, other), \"+\")\n",
    "        def _der():\n",
    "            self.grad += out.grad\n",
    "            other.grad += out.grad\n",
    "        out.op_der = _der\n",
    "        return out\n",
    "\n",
    "    def __radd__(self, other):\n",
    "        return self + other\n",
    "\n",
    "    def __neg__(self):\n",
    "        return self * -1\n",
    "\n",
    "    def __sub__(self, other):\n",
    "        return self + -(other)\n",
    "\n",
    "    def __mul__(self, other):\n",
    "        if not isinstance(other, Value):\n",
    "            other = Value(other)\n",
    "            \n",
    "        out = Value(self.data * other.data, (self, other), \"*\")\n",
    "        def _der():\n",
    "            self.grad += other.data * out.grad \n",
    "            other.grad += self.data * out.grad\n",
    "        out.op_der = _der\n",
    "        return out\n",
    "\n",
    "    def __rmul__(self, other):\n",
    "        return self * other\n",
    "    \n",
    "    def __pow__(self, other):\n",
    "        assert isinstance(other, (int, float)), \"only int/float allowed\"\n",
    "\n",
    "        out = Value(self.data ** other, (self, ), f'**{other}')\n",
    "        def _der():\n",
    "            self.grad += other * (self.data ** (other - 1)) * out.grad\n",
    "        out.op_der = _der\n",
    "        return out\n",
    "\n",
    "    def __truediv__(self, other):\n",
    "        return self * (other ** -1)\n",
    "        \n",
    "    def __rtruediv__(self, other):\n",
    "        return other * (self ** -1)\n",
    "    \n",
    "    def tanh(self):\n",
    "        x = self.data\n",
    "        val = (math.exp(2 * x) - 1) / (math.exp(2 * x) + 1)\n",
    "        out = Value(val, (self, ), \"tanh\")\n",
    "        def _der():\n",
    "            self.grad += (1 - val**2) * out.grad\n",
    "        out.op_der = _der\n",
    "        return out\n",
    "\n",
    "    def relu(self):\n",
    "        out = Value(0 if self.data < 0 else self.data, (self, ), \"relu\")\n",
    "\n",
    "        def _der():\n",
    "            self.grad += (out.data > 0) * out.grad\n",
    "        out.op_der = _der\n",
    "        return out\n",
    "\n",
    "    def exp(self):\n",
    "        x = self.data\n",
    "        out = Value(math.exp(x), (self, ), 'exp')\n",
    "\n",
    "        def _der():\n",
    "            self.grad += out.data * out.grad\n",
    "        out.op_der = _der\n",
    "        return out\n",
    "\n",
    "    def old_trace(self, depth=1):\n",
    "        print(f\"{self.label}={self.data}\", f\"grad={self.grad}\", self.op)\n",
    "        \n",
    "        for child in self.children:\n",
    "            print(end=\"  \"*depth)\n",
    "            child.trace(depth+1)\n",
    "    \n",
    "    def trace(self, depth=1):\n",
    "        if self.label != \"_no_label_\":\n",
    "            print(f\"{self.label}={self.data}\", f\"grad={self.grad}\", self.op)\n",
    "        \n",
    "        for child in self.children:\n",
    "            if self.label != \"_no_label_\":\n",
    "                print(end=\"  \"*depth)\n",
    "                child.trace(depth+1)\n",
    "            else:\n",
    "                child.trace(depth)\n",
    "\n",
    "    def backward(self):\n",
    "        # Calculate the gradients wrt each children and recurse till no children\n",
    "        # Each child node's grad will be with respect to self\n",
    "        # To get each child node's global grad, we need to multiply with current grad\n",
    "\n",
    "        # Calculate toposort of DAG and call backward for all the child nodes in that order\n",
    "        topo = []\n",
    "        visited = set()\n",
    "        def build_topo(node):\n",
    "            if node in visited:\n",
    "                return\n",
    "\n",
    "            visited.add(node)\n",
    "            for child in node.children:\n",
    "                build_topo(child)\n",
    "            topo.append(node)\n",
    "        \n",
    "        build_topo(self)\n",
    "\n",
    "        # Set current node grad as 1\n",
    "        self.grad = 1.0\n",
    "\n",
    "        for node in reversed(topo):\n",
    "            node.op_der()"
   ]
  },
  {
   "cell_type": "code",
   "execution_count": 85,
   "id": "9299a1f5-e58f-41ff-aaba-09bf24a48a1c",
   "metadata": {},
   "outputs": [
    {
     "name": "stdout",
     "output_type": "stream",
     "text": [
      "24.7041\n",
      "138.8338\n",
      "645.5773\n"
     ]
    }
   ],
   "source": [
    "# micrograd readme example\n",
    "\n",
    "a = Value(-4.0)\n",
    "b = Value(2.0)\n",
    "c = a + b\n",
    "d = a * b + b**3; \n",
    "c += c + 1\n",
    "c += 1 + c + (-a)\n",
    "d += d * 2 + (b + a).relu()\n",
    "d += 3 * d + (b - a).relu()\n",
    "e = c - d\n",
    "f = e**2\n",
    "g = f / 2.0\n",
    "g += 10.0 / f\n",
    "a.label = \"a\"\n",
    "b.label = \"b\"\n",
    "c.label = \"c\"\n",
    "d.label = \"d\"\n",
    "e.label = \"e\"\n",
    "f.label = \"f\"\n",
    "g.label = \"g\"\n",
    "print(f'{g.data:.4f}') # prints 24.7041, the outcome of this forward pass\n",
    "g.backward()\n",
    "print(f'{a.grad:.4f}') # prints 138.8338, i.e. the numerical value of dg/da\n",
    "print(f'{b.grad:.4f}') # prints 645.5773, i.e. the numerical value of dg/db"
   ]
  },
  {
   "cell_type": "code",
   "execution_count": 73,
   "id": "793e2990-26f7-44b0-9662-2c8e0a88aba1",
   "metadata": {},
   "outputs": [],
   "source": [
    "# neuron example \n",
    "\n",
    "x1 = Value(2.0, label=\"x1\")\n",
    "x2 = Value(0.0, label=\"x2\")\n",
    "w1 = Value(-3.0, label=\"w1\")\n",
    "w2 = Value(1.0, label=\"w2\")\n",
    "b = Value(6.88137358, label=\"b\")\n",
    "x1w1 = x1 * w1; x1w1.label = \"x1w1\"\n",
    "x2w2 = x2 * w2; x2w2.label = \"x2w2\"\n",
    "x1w1x2w2 = x1w1 + x2w2; x1w1x2w2.label = \"x1w1+x2w2\"\n",
    "n = x1w1x2w2 + b; n.label = \"n\"\n",
    "o = n.tanh(); o.label = \"o\""
   ]
  },
  {
   "cell_type": "code",
   "execution_count": 74,
   "id": "43f686f5-d914-4789-a77b-4ace65c4051f",
   "metadata": {},
   "outputs": [
    {
     "name": "stdout",
     "output_type": "stream",
     "text": [
      "o=0.707106777676776 grad=0.0 tanh\n",
      "  n=0.88137358 grad=0.0 +\n",
      "    b=6.88137358 grad=0.0 \n",
      "    x1w1+x2w2=-6.0 grad=0.0 +\n",
      "      x2w2=0.0 grad=0.0 *\n",
      "        w2=1.0 grad=0.0 \n",
      "        x2=0.0 grad=0.0 \n",
      "      x1w1=-6.0 grad=0.0 *\n",
      "        x1=2.0 grad=0.0 \n",
      "        w1=-3.0 grad=0.0 \n"
     ]
    }
   ],
   "source": [
    "o.trace()"
   ]
  },
  {
   "cell_type": "code",
   "execution_count": 75,
   "id": "6cec497a-dc8e-41d8-8c7a-a6710aa2e661",
   "metadata": {},
   "outputs": [
    {
     "name": "stdout",
     "output_type": "stream",
     "text": [
      "o=0.707106777676776 grad=1.0 tanh\n",
      "  n=0.88137358 grad=0.5000000049635664 +\n",
      "    b=6.88137358 grad=0.5000000049635664 \n",
      "    x1w1+x2w2=-6.0 grad=0.5000000049635664 +\n",
      "      x2w2=0.0 grad=0.5000000049635664 *\n",
      "        w2=1.0 grad=0.0 \n",
      "        x2=0.0 grad=0.5000000049635664 \n",
      "      x1w1=-6.0 grad=0.5000000049635664 *\n",
      "        x1=2.0 grad=-1.5000000148906993 \n",
      "        w1=-3.0 grad=1.000000009927133 \n"
     ]
    }
   ],
   "source": [
    "o.backward()\n",
    "o.trace()"
   ]
  },
  {
   "cell_type": "code",
   "execution_count": 76,
   "id": "efbd939b-1c6b-4113-8e57-f8a68ca1d22f",
   "metadata": {},
   "outputs": [],
   "source": [
    "# neuron example with broken down tanh\n",
    "\n",
    "x1 = Value(2.0, label=\"x1\")\n",
    "x2 = Value(0.0, label=\"x2\")\n",
    "w1 = Value(-3.0, label=\"w1\")\n",
    "w2 = Value(1.0, label=\"w2\")\n",
    "b = Value(6.88137358, label=\"b\")\n",
    "x1w1 = x1 * w1; x1w1.label = \"x1w1\"\n",
    "x2w2 = x2 * w2; x2w2.label = \"x2w2\"\n",
    "x1w1x2w2 = x1w1 + x2w2; x1w1x2w2.label = \"x1w1+x2w2\"\n",
    "n = x1w1x2w2 + b; n.label = \"n\"\n",
    "\n",
    "e = (2*n).exp(); e.label = \"e\"\n",
    "o = (e - 1) / (e + 1)\n",
    "\n",
    "o.label = \"o\""
   ]
  },
  {
   "cell_type": "code",
   "execution_count": 77,
   "id": "74528de3-2391-488c-8505-aa98d7ad6929",
   "metadata": {},
   "outputs": [
    {
     "name": "stdout",
     "output_type": "stream",
     "text": [
      "o=0.7071067776767761 grad=0.0 *\n",
      "  e=5.828427042920401 grad=0.0 exp\n",
      "    n=0.88137358 grad=0.0 +\n",
      "      b=6.88137358 grad=0.0 \n",
      "      x1w1+x2w2=-6.0 grad=0.0 +\n",
      "        x1w1=-6.0 grad=0.0 *\n",
      "          x1=2.0 grad=0.0 \n",
      "          w1=-3.0 grad=0.0 \n",
      "        x2w2=0.0 grad=0.0 *\n",
      "          w2=1.0 grad=0.0 \n",
      "          x2=0.0 grad=0.0 \n",
      "  e=5.828427042920401 grad=0.0 exp\n",
      "    n=0.88137358 grad=0.0 +\n",
      "      b=6.88137358 grad=0.0 \n",
      "      x1w1+x2w2=-6.0 grad=0.0 +\n",
      "        x1w1=-6.0 grad=0.0 *\n",
      "          x1=2.0 grad=0.0 \n",
      "          w1=-3.0 grad=0.0 \n",
      "        x2w2=0.0 grad=0.0 *\n",
      "          w2=1.0 grad=0.0 \n",
      "          x2=0.0 grad=0.0 \n"
     ]
    }
   ],
   "source": [
    "o.trace()"
   ]
  },
  {
   "cell_type": "code",
   "execution_count": 78,
   "id": "0b08cefe-65ab-422c-ba12-2cec06948b92",
   "metadata": {},
   "outputs": [
    {
     "name": "stdout",
     "output_type": "stream",
     "text": [
      "o=0.7071067776767761 grad=1.0 *\n",
      "  e=5.828427042920401 grad=0.04289321984144076 exp\n",
      "    n=0.88137358 grad=0.5000000049635664 +\n",
      "      b=6.88137358 grad=0.5000000049635664 \n",
      "      x1w1+x2w2=-6.0 grad=0.5000000049635664 +\n",
      "        x1w1=-6.0 grad=0.5000000049635664 *\n",
      "          x1=2.0 grad=-1.5000000148906993 \n",
      "          w1=-3.0 grad=1.000000009927133 \n",
      "        x2w2=0.0 grad=0.5000000049635664 *\n",
      "          w2=1.0 grad=0.0 \n",
      "          x2=0.0 grad=0.5000000049635664 \n",
      "  e=5.828427042920401 grad=0.04289321984144076 exp\n",
      "    n=0.88137358 grad=0.5000000049635664 +\n",
      "      b=6.88137358 grad=0.5000000049635664 \n",
      "      x1w1+x2w2=-6.0 grad=0.5000000049635664 +\n",
      "        x1w1=-6.0 grad=0.5000000049635664 *\n",
      "          x1=2.0 grad=-1.5000000148906993 \n",
      "          w1=-3.0 grad=1.000000009927133 \n",
      "        x2w2=0.0 grad=0.5000000049635664 *\n",
      "          w2=1.0 grad=0.0 \n",
      "          x2=0.0 grad=0.5000000049635664 \n"
     ]
    }
   ],
   "source": [
    "o.backward()\n",
    "o.trace()"
   ]
  }
 ],
 "metadata": {
  "kernelspec": {
   "display_name": "Python 3 (ipykernel)",
   "language": "python",
   "name": "python3"
  },
  "language_info": {
   "codemirror_mode": {
    "name": "ipython",
    "version": 3
   },
   "file_extension": ".py",
   "mimetype": "text/x-python",
   "name": "python",
   "nbconvert_exporter": "python",
   "pygments_lexer": "ipython3",
   "version": "3.13.2"
  }
 },
 "nbformat": 4,
 "nbformat_minor": 5
}
