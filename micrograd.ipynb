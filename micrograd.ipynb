{
 "cells": [
  {
   "cell_type": "code",
   "execution_count": 13,
   "id": "59247ace-cecf-4e91-a5fb-85fb3efe9752",
   "metadata": {
    "editable": true,
    "slideshow": {
     "slide_type": ""
    },
    "tags": []
   },
   "outputs": [],
   "source": [
    "import math\n",
    "import numpy as np\n",
    "import matplotlib.pyplot as plt\n",
    "import random\n",
    "%matplotlib inline"
   ]
  },
  {
   "cell_type": "code",
   "execution_count": 2,
   "id": "bf0d33da-31d3-4498-9c6f-98b2cc39b893",
   "metadata": {},
   "outputs": [],
   "source": [
    "# Every operation needs to be propogated backwards with its derivative\n",
    "# Value class needs the value that holds a float\n",
    "# - needs to overload the ops\n",
    "# - needs to be able to get the grad of the final output wrt the current value"
   ]
  },
  {
   "cell_type": "code",
   "execution_count": 3,
   "id": "ad140268-bb02-4d30-85da-2ec87d7be997",
   "metadata": {},
   "outputs": [
    {
     "data": {
      "text/plain": [
       "[<matplotlib.lines.Line2D at 0x7729fb8eafd0>]"
      ]
     },
     "execution_count": 3,
     "metadata": {},
     "output_type": "execute_result"
    },
    {
     "data": {
      "image/png": "[encoded data removed]",
      "text/plain": [
       "<Figure size 640x480 with 1 Axes>"
      ]
     },
     "metadata": {},
     "output_type": "display_data"
    }
   ],
   "source": [
    "def f(x):\n",
    "    return 2 * (x ** 2) + 3\n",
    "\n",
    "xs = np.arange(-5, 5, 0.25)\n",
    "ys = f(xs)\n",
    "plt.plot(xs, ys)"
   ]
  },
  {
   "cell_type": "code",
   "execution_count": 687,
   "id": "f1bb25ef-c397-4806-b7ba-be29c85f1ba3",
   "metadata": {},
   "outputs": [],
   "source": [
    "class Value:\n",
    "    def __init__(self, data, _children = (), _op = \"\", label = \"_no_label_\", op_der = lambda: None):\n",
    "        # Only two children for now and one operation\n",
    "        self.data = data\n",
    "        self.op_der = op_der\n",
    "        self.grad = 0.0\n",
    "        self.children = set(_children)\n",
    "        self.op = _op\n",
    "        self.label = label\n",
    "\n",
    "    def __repr__(self):\n",
    "        return f\"Value(data = {self.data})\"\n",
    "\n",
    "    def moredata(self):\n",
    "        return f\"Value(data = {self.data}, _children = {self.children}, _op = {self.op})\"\n",
    "\n",
    "    def __add__(self, other):\n",
    "        if not isinstance(other, Value):\n",
    "            other = Value(other)\n",
    "            \n",
    "        out = Value(self.data + other.data, (self, other), \"+\")\n",
    "        def _der():\n",
    "            self.grad += out.grad\n",
    "            other.grad += out.grad\n",
    "        out.op_der = _der\n",
    "        return out\n",
    "\n",
    "    def __radd__(self, other):\n",
    "        return self + other\n",
    "\n",
    "    def __neg__(self):\n",
    "        return self * -1\n",
    "\n",
    "    def __sub__(self, other):\n",
    "        return self + -(other)\n",
    "\n",
    "    def __mul__(self, other):\n",
    "        if not isinstance(other, Value):\n",
    "            other = Value(other)\n",
    "            \n",
    "        out = Value(self.data * other.data, (self, other), \"*\")\n",
    "        def _der():\n",
    "            self.grad += other.data * out.grad \n",
    "            other.grad += self.data * out.grad\n",
    "        out.op_der = _der\n",
    "        return out\n",
    "\n",
    "    def __rmul__(self, other):\n",
    "        return self * other\n",
    "    \n",
    "    def __pow__(self, other):\n",
    "        assert isinstance(other, (int, float)), \"only int/float allowed\"\n",
    "\n",
    "        out = Value(self.data ** other, (self, ), f'**{other}')\n",
    "        def _der():\n",
    "            self.grad += other * (self.data ** (other - 1)) * out.grad\n",
    "        out.op_der = _der\n",
    "        return out\n",
    "\n",
    "    def __truediv__(self, other):\n",
    "        return self * (other ** -1)\n",
    "        \n",
    "    def __rtruediv__(self, other):\n",
    "        return other * (self ** -1)\n",
    "    \n",
    "    def tanh(self):\n",
    "        x = self.data\n",
    "        # val = (math.exp(2 * x) - 1) / (math.exp(2 * x) + 1)\n",
    "        val = math.tanh(x)\n",
    "        out = Value(val, (self, ), \"tanh\")\n",
    "        def _der():\n",
    "            self.grad += (1 - val**2) * out.grad\n",
    "        out.op_der = _der\n",
    "        return out\n",
    "\n",
    "    def relu(self):\n",
    "        out = Value(0 if self.data < 0 else self.data, (self, ), \"relu\")\n",
    "\n",
    "        def _der():\n",
    "            self.grad += (out.data > 0) * out.grad\n",
    "        out.op_der = _der\n",
    "        return out\n",
    "\n",
    "    def exp(self):\n",
    "        x = self.data\n",
    "        out = Value(math.exp(x), (self, ), 'exp')\n",
    "\n",
    "        def _der():\n",
    "            self.grad += out.data * out.grad\n",
    "        out.op_der = _der\n",
    "        return out\n",
    "\n",
    "    def trace(self, depth=1):\n",
    "        print(f\"{self.label}={self.data}\", f\"grad={self.grad}\", self.op)\n",
    "        \n",
    "        for child in self.children:\n",
    "            print(end=\"  \"*depth)\n",
    "            child.trace(depth+1)\n",
    "    \n",
    "    def pretty_trace(self, depth=1):\n",
    "        if self.label != \"_no_label_\":\n",
    "            print(f\"{self.label}={self.data}\", f\"grad={self.grad}\", self.op)\n",
    "        \n",
    "        for child in self.children:\n",
    "            if self.label != \"_no_label_\":\n",
    "                print(end=\"  \"*depth)\n",
    "                child.pretty_trace(depth+1)\n",
    "            else:\n",
    "                child.pretty_trace(depth)\n",
    "\n",
    "    def backward(self):\n",
    "        # Calculate the gradients wrt each children and recurse till no children\n",
    "        # Each child node's grad will be with respect to self\n",
    "        # To get each child node's global grad, we need to multiply with current grad\n",
    "\n",
    "        # Calculate toposort of DAG and call backward for all the child nodes in that order\n",
    "        topo = []\n",
    "        visited = set()\n",
    "        def build_topo(node):\n",
    "            if node in visited:\n",
    "                return\n",
    "\n",
    "            visited.add(node)\n",
    "            for child in node.children:\n",
    "                build_topo(child)\n",
    "            topo.append(node)\n",
    "        \n",
    "        build_topo(self)\n",
    "\n",
    "        # Set current node grad as 1\n",
    "        self.grad = 1.0\n",
    "\n",
    "        for node in reversed(topo):\n",
    "            node.op_der()"
   ]
  },
  {
   "cell_type": "code",
   "execution_count": 688,
   "id": "9299a1f5-e58f-41ff-aaba-09bf24a48a1c",
   "metadata": {},
   "outputs": [
    {
     "name": "stdout",
     "output_type": "stream",
     "text": [
      "24.7041\n",
      "138.8338\n",
      "645.5773\n"
     ]
    }
   ],
   "source": [
    "# micrograd readme example\n",
    "\n",
    "a = Value(-4.0)\n",
    "b = Value(2.0)\n",
    "c = a + b\n",
    "d = a * b + b**3; \n",
    "c += c + 1\n",
    "c += 1 + c + (-a)\n",
    "d += d * 2 + (b + a).relu()\n",
    "d += 3 * d + (b - a).relu()\n",
    "e = c - d\n",
    "f = e**2\n",
    "g = f / 2.0\n",
    "g += 10.0 / f\n",
    "a.label = \"a\"\n",
    "b.label = \"b\"\n",
    "c.label = \"c\"\n",
    "d.label = \"d\"\n",
    "e.label = \"e\"\n",
    "f.label = \"f\"\n",
    "g.label = \"g\"\n",
    "print(f'{g.data:.4f}') # prints 24.7041, the outcome of this forward pass\n",
    "g.backward()\n",
    "print(f'{a.grad:.4f}') # prints 138.8338, i.e. the numerical value of dg/da\n",
    "print(f'{b.grad:.4f}') # prints 645.5773, i.e. the numerical value of dg/db"
   ]
  },
  {
   "cell_type": "code",
   "execution_count": 689,
   "id": "793e2990-26f7-44b0-9662-2c8e0a88aba1",
   "metadata": {},
   "outputs": [],
   "source": [
    "# neuron example \n",
    "\n",
    "x1 = Value(2.0, label=\"x1\")\n",
    "x2 = Value(0.0, label=\"x2\")\n",
    "w1 = Value(-3.0, label=\"w1\")\n",
    "w2 = Value(1.0, label=\"w2\")\n",
    "b = Value(6.88137358, label=\"b\")\n",
    "x1w1 = x1 * w1; x1w1.label = \"x1w1\"\n",
    "x2w2 = x2 * w2; x2w2.label = \"x2w2\"\n",
    "x1w1x2w2 = x1w1 + x2w2; x1w1x2w2.label = \"x1w1+x2w2\"\n",
    "n = x1w1x2w2 + b; n.label = \"n\"\n",
    "o = n.tanh(); o.label = \"o\""
   ]
  },
  {
   "cell_type": "code",
   "execution_count": 690,
   "id": "43f686f5-d914-4789-a77b-4ace65c4051f",
   "metadata": {},
   "outputs": [
    {
     "name": "stdout",
     "output_type": "stream",
     "text": [
      "o=0.707106777676776 grad=0.0 tanh\n",
      "  n=0.88137358 grad=0.0 +\n",
      "    x1w1+x2w2=-6.0 grad=0.0 +\n",
      "      x1w1=-6.0 grad=0.0 *\n",
      "        w1=-3.0 grad=0.0 \n",
      "        x1=2.0 grad=0.0 \n",
      "      x2w2=0.0 grad=0.0 *\n",
      "        w2=1.0 grad=0.0 \n",
      "        x2=0.0 grad=0.0 \n",
      "    b=6.88137358 grad=0.0 \n"
     ]
    }
   ],
   "source": [
    "o.trace()"
   ]
  },
  {
   "cell_type": "code",
   "execution_count": 691,
   "id": "6cec497a-dc8e-41d8-8c7a-a6710aa2e661",
   "metadata": {},
   "outputs": [
    {
     "name": "stdout",
     "output_type": "stream",
     "text": [
      "o=0.707106777676776 grad=1.0 tanh\n",
      "  n=0.88137358 grad=0.5000000049635664 +\n",
      "    x1w1+x2w2=-6.0 grad=0.5000000049635664 +\n",
      "      x1w1=-6.0 grad=0.5000000049635664 *\n",
      "        w1=-3.0 grad=1.000000009927133 \n",
      "        x1=2.0 grad=-1.5000000148906993 \n",
      "      x2w2=0.0 grad=0.5000000049635664 *\n",
      "        w2=1.0 grad=0.0 \n",
      "        x2=0.0 grad=0.5000000049635664 \n",
      "    b=6.88137358 grad=0.5000000049635664 \n"
     ]
    }
   ],
   "source": [
    "o.backward()\n",
    "o.trace()"
   ]
  },
  {
   "cell_type": "code",
   "execution_count": 692,
   "id": "efbd939b-1c6b-4113-8e57-f8a68ca1d22f",
   "metadata": {},
   "outputs": [],
   "source": [
    "# neuron example with broken down tanh\n",
    "\n",
    "x1 = Value(2.0, label=\"x1\")\n",
    "x2 = Value(0.0, label=\"x2\")\n",
    "w1 = Value(-3.0, label=\"w1\")\n",
    "w2 = Value(1.0, label=\"w2\")\n",
    "b = Value(6.88137358, label=\"b\")\n",
    "x1w1 = x1 * w1; x1w1.label = \"x1w1\"\n",
    "x2w2 = x2 * w2; x2w2.label = \"x2w2\"\n",
    "x1w1x2w2 = x1w1 + x2w2; x1w1x2w2.label = \"x1w1+x2w2\"\n",
    "n = x1w1x2w2 + b; n.label = \"n\"\n",
    "\n",
    "e = (2*n).exp(); e.label = \"e\"\n",
    "o = (e - 1) / (e + 1)\n",
    "\n",
    "o.label = \"o\""
   ]
  },
  {
   "cell_type": "code",
   "execution_count": 693,
   "id": "74528de3-2391-488c-8505-aa98d7ad6929",
   "metadata": {},
   "outputs": [
    {
     "name": "stdout",
     "output_type": "stream",
     "text": [
      "o=0.7071067776767761 grad=0.0 *\n",
      "  e=5.828427042920401 grad=0.0 exp\n",
      "    n=0.88137358 grad=0.0 +\n",
      "      b=6.88137358 grad=0.0 \n",
      "      x1w1+x2w2=-6.0 grad=0.0 +\n",
      "        x1w1=-6.0 grad=0.0 *\n",
      "          w1=-3.0 grad=0.0 \n",
      "          x1=2.0 grad=0.0 \n",
      "        x2w2=0.0 grad=0.0 *\n",
      "          w2=1.0 grad=0.0 \n",
      "          x2=0.0 grad=0.0 \n",
      "  e=5.828427042920401 grad=0.0 exp\n",
      "    n=0.88137358 grad=0.0 +\n",
      "      b=6.88137358 grad=0.0 \n",
      "      x1w1+x2w2=-6.0 grad=0.0 +\n",
      "        x1w1=-6.0 grad=0.0 *\n",
      "          w1=-3.0 grad=0.0 \n",
      "          x1=2.0 grad=0.0 \n",
      "        x2w2=0.0 grad=0.0 *\n",
      "          w2=1.0 grad=0.0 \n",
      "          x2=0.0 grad=0.0 \n"
     ]
    }
   ],
   "source": [
    "o.pretty_trace()"
   ]
  },
  {
   "cell_type": "code",
   "execution_count": 694,
   "id": "0b08cefe-65ab-422c-ba12-2cec06948b92",
   "metadata": {},
   "outputs": [
    {
     "name": "stdout",
     "output_type": "stream",
     "text": [
      "o=0.7071067776767761 grad=1.0 *\n",
      "  e=5.828427042920401 grad=0.04289321984144076 exp\n",
      "    n=0.88137358 grad=0.5000000049635664 +\n",
      "      b=6.88137358 grad=0.5000000049635664 \n",
      "      x1w1+x2w2=-6.0 grad=0.5000000049635664 +\n",
      "        x1w1=-6.0 grad=0.5000000049635664 *\n",
      "          w1=-3.0 grad=1.000000009927133 \n",
      "          x1=2.0 grad=-1.5000000148906993 \n",
      "        x2w2=0.0 grad=0.5000000049635664 *\n",
      "          w2=1.0 grad=0.0 \n",
      "          x2=0.0 grad=0.5000000049635664 \n",
      "  e=5.828427042920401 grad=0.04289321984144076 exp\n",
      "    n=0.88137358 grad=0.5000000049635664 +\n",
      "      b=6.88137358 grad=0.5000000049635664 \n",
      "      x1w1+x2w2=-6.0 grad=0.5000000049635664 +\n",
      "        x1w1=-6.0 grad=0.5000000049635664 *\n",
      "          w1=-3.0 grad=1.000000009927133 \n",
      "          x1=2.0 grad=-1.5000000148906993 \n",
      "        x2w2=0.0 grad=0.5000000049635664 *\n",
      "          w2=1.0 grad=0.0 \n",
      "          x2=0.0 grad=0.5000000049635664 \n"
     ]
    }
   ],
   "source": [
    "o.backward()\n",
    "o.pretty_trace()"
   ]
  },
  {
   "cell_type": "code",
   "execution_count": 746,
   "id": "055ee6bb-9a94-47cb-9ad3-7a533415b1d3",
   "metadata": {},
   "outputs": [
    {
     "data": {
      "text/plain": [
       "-0.6276068631273062"
      ]
     },
     "execution_count": 746,
     "metadata": {},
     "output_type": "execute_result"
    }
   ],
   "source": [
    "class Neuron: \n",
    "    def __init__(self, nin):\n",
    "        self.w = [Value(random.uniform(-1, 1)) for _ in range(nin)]\n",
    "        self.b = Value(random.uniform(-1, 1))\n",
    "\n",
    "    def __call__(self, x):\n",
    "        act = sum((wi * xi for wi, xi in zip(self.w, x)), self.b)\n",
    "        out = act.tanh()\n",
    "        return out\n",
    "\n",
    "    def params(self):\n",
    "        return self.w + [self.b]\n",
    "\n",
    "class Layer:\n",
    "    def __init__(self, nin, nout):\n",
    "        self.neurons = [Neuron(nin) for _ in range(nout)]\n",
    "\n",
    "    def __call__(self, x):\n",
    "        outs = [n(x) for n in self.neurons]\n",
    "        return outs[0] if len(outs) == 1 else outs\n",
    "\n",
    "    def params(self):\n",
    "        return [p for n in self.neurons for p in n.params()]\n",
    "        \n",
    "class MLP:\n",
    "    def __init__(self, nin, nout):\n",
    "        sz = [nin] + nout\n",
    "        self.layers = [Layer(sz[i], sz[i+1]) for i in range(len(nout))]\n",
    "\n",
    "    def __call__(self, x):\n",
    "        for layer in self.layers:\n",
    "            x = layer(x)\n",
    "        return x\n",
    "\n",
    "    def params(self):\n",
    "        return [p for layer in self.layers for p in layer.params()]\n",
    "\n",
    "x = [2.0, 3.0]\n",
    "n = MLP(3, [4, 4, 1])\n",
    "o = n(x)\n",
    "o.data"
   ]
  },
  {
   "cell_type": "code",
   "execution_count": 747,
   "id": "aabcd964-b73d-4e87-858a-bd46b62625df",
   "metadata": {},
   "outputs": [
    {
     "data": {
      "text/plain": [
       "41"
      ]
     },
     "execution_count": 747,
     "metadata": {},
     "output_type": "execute_result"
    }
   ],
   "source": [
    "len(n.params())"
   ]
  },
  {
   "cell_type": "code",
   "execution_count": 748,
   "id": "ff1c81cf-bd9b-4a3b-b704-683d120e6947",
   "metadata": {},
   "outputs": [
    {
     "data": {
      "text/plain": [
       "[0.36771558828719675,\n",
       " 0.6853391217370621,\n",
       " -0.2749926978140609,\n",
       " 0.86229635736161,\n",
       " 0.4314590559765046,\n",
       " -0.711038155037234,\n",
       " -0.25749447573531725,\n",
       " -0.5581660793761483,\n",
       " 0.24653762945246416,\n",
       " -0.248140386052762,\n",
       " 0.39790689344347197,\n",
       " -0.3117519244926381,\n",
       " -0.1956308679889196,\n",
       " 0.34717739209323395,\n",
       " -0.36884692150226406,\n",
       " -0.5532963944497655,\n",
       " 0.804828964116064,\n",
       " 0.4497842013767672,\n",
       " -0.7776920167151788,\n",
       " 0.12438089734281488,\n",
       " -0.11800912694858479,\n",
       " 0.19861619782342066,\n",
       " -0.6219544159440504,\n",
       " 0.5026832556271095,\n",
       " -0.13739695139128982,\n",
       " 0.04403924841301654,\n",
       " -0.11012180129960125,\n",
       " -0.6166896611323542,\n",
       " -0.192259852701546,\n",
       " -0.3257117116421353,\n",
       " 0.6378762341861743,\n",
       " 0.41179275128224213,\n",
       " 0.8547605676289041,\n",
       " 0.7942851395377977,\n",
       " 0.3806614921891236,\n",
       " -0.21655363086578827,\n",
       " 0.3229466163247612,\n",
       " 0.20107081086984824,\n",
       " 0.7352934951561538,\n",
       " 0.9238806273724751,\n",
       " -0.9389621057431208]"
      ]
     },
     "execution_count": 748,
     "metadata": {},
     "output_type": "execute_result"
    }
   ],
   "source": [
    "start_params_data = [p.data for p in n.params()]\n",
    "start_params_data"
   ]
  },
  {
   "cell_type": "code",
   "execution_count": 749,
   "id": "56f076f4-b680-4802-9939-ea9ec0e2417c",
   "metadata": {},
   "outputs": [],
   "source": [
    "# simple dataset\n",
    "xs = [\n",
    "    [2.0, 3.0, -1.0],\n",
    "    [3.0, -1.0, 0.5],\n",
    "    [0.5, 1.0, 1.0],\n",
    "    [1.0, 1.0, -1.0],\n",
    "]\n",
    "ys = [1.0, -1.0, -1.0, 1.0]"
   ]
  },
  {
   "cell_type": "code",
   "execution_count": 750,
   "id": "b36037c7-2eb6-43c3-a205-87c3063151de",
   "metadata": {},
   "outputs": [],
   "source": [
    "LR = 0.01\n",
    "iters = 1000\n",
    "losses = []\n",
    "grad_avgs = []\n",
    "\n",
    "for _ in range(iters):\n",
    "    ypred = [n(x) for x in xs]\n",
    "    # print(\"predictions:\\n\", ypred)\n",
    "    \n",
    "    # MSE loss\n",
    "    loss = sum([(ygt - yout)**2 for ygt, yout in zip(ypred, ys)])\n",
    "    # print(\"loss = \", loss)\n",
    "    losses.append(loss.data)\n",
    "    for p in n.params():\n",
    "        p.grad = 0.0\n",
    "    loss.backward()\n",
    "\n",
    "    \n",
    "    for p in n.params():\n",
    "        p.data -= p.grad * LR\n",
    "    \n",
    "    # what do the gradients look like: gradient averages?\n",
    "    grad_avg = sum([p.grad for p in n.params()]) / len(n.params())\n",
    "    grad_avgs.append(grad_avg)"
   ]
  },
  {
   "cell_type": "code",
   "execution_count": 751,
   "id": "eb3ec41a-f12c-42c3-be90-5101b0591dcb",
   "metadata": {},
   "outputs": [
    {
     "data": {
      "text/plain": [
       "[<matplotlib.lines.Line2D at 0x7729f44842d0>]"
      ]
     },
     "execution_count": 751,
     "metadata": {},
     "output_type": "execute_result"
    },
    {
     "data": {
      "image/png": "[encoded data removed]",
      "text/plain": [
       "<Figure size 640x480 with 1 Axes>"
      ]
     },
     "metadata": {},
     "output_type": "display_data"
    }
   ],
   "source": [
    "plt.plot(losses)"
   ]
  },
  {
   "cell_type": "code",
   "execution_count": 752,
   "id": "fbc1a2dc-49a3-4b45-952d-daaaeb75d7a1",
   "metadata": {},
   "outputs": [
    {
     "data": {
      "text/plain": [
       "[<matplotlib.lines.Line2D at 0x7729eede6850>]"
      ]
     },
     "execution_count": 752,
     "metadata": {},
     "output_type": "execute_result"
    },
    {
     "data": {
      "image/png": "[encoded data removed]",
      "text/plain": [
       "<Figure size 640x480 with 1 Axes>"
      ]
     },
     "metadata": {},
     "output_type": "display_data"
    }
   ],
   "source": [
    "plt.plot(grad_avgs)"
   ]
  },
  {
   "cell_type": "code",
   "execution_count": 753,
   "id": "43bdc792-8bad-4da6-9edd-f9f3fac1a06e",
   "metadata": {},
   "outputs": [
    {
     "data": {
      "text/plain": [
       "(array([ 1.,  1.,  0.,  1.,  3.,  3., 14.,  8.,  8.,  2.]),\n",
       " array([-0.01059869, -0.00911127, -0.00762384, -0.00613642, -0.004649  ,\n",
       "        -0.00316158, -0.00167416, -0.00018674,  0.00130069,  0.00278811,\n",
       "         0.00427553]),\n",
       " <BarContainer object of 10 artists>)"
      ]
     },
     "execution_count": 753,
     "metadata": {},
     "output_type": "execute_result"
    },
    {
     "data": {
      "image/png": "[encoded data removed]",
      "text/plain": [
       "<Figure size 640x480 with 1 Axes>"
      ]
     },
     "metadata": {},
     "output_type": "display_data"
    }
   ],
   "source": [
    "plt.hist([p.grad for p in n.params()])"
   ]
  },
  {
   "cell_type": "code",
   "execution_count": 757,
   "id": "432969e9-b2ef-449a-9e01-e31210610d3d",
   "metadata": {},
   "outputs": [
    {
     "data": {
      "text/plain": [
       "[0.36771558828719675,\n",
       " 0.6853391217370621,\n",
       " -0.2749926978140609,\n",
       " 0.86229635736161,\n",
       " 0.4314590559765046,\n",
       " -0.711038155037234,\n",
       " -0.25749447573531725,\n",
       " -0.5581660793761483,\n",
       " 0.24653762945246416,\n",
       " -0.248140386052762,\n",
       " 0.39790689344347197,\n",
       " -0.3117519244926381,\n",
       " -0.1956308679889196,\n",
       " 0.34717739209323395,\n",
       " -0.36884692150226406,\n",
       " -0.5532963944497655,\n",
       " 0.804828964116064,\n",
       " 0.4497842013767672,\n",
       " -0.7776920167151788,\n",
       " 0.12438089734281488,\n",
       " -0.11800912694858479,\n",
       " 0.19861619782342066,\n",
       " -0.6219544159440504,\n",
       " 0.5026832556271095,\n",
       " -0.13739695139128982,\n",
       " 0.04403924841301654,\n",
       " -0.11012180129960125,\n",
       " -0.6166896611323542,\n",
       " -0.192259852701546,\n",
       " -0.3257117116421353,\n",
       " 0.6378762341861743,\n",
       " 0.41179275128224213,\n",
       " 0.8547605676289041,\n",
       " 0.7942851395377977,\n",
       " 0.3806614921891236,\n",
       " -0.21655363086578827,\n",
       " 0.3229466163247612,\n",
       " 0.20107081086984824,\n",
       " 0.7352934951561538,\n",
       " 0.9238806273724751,\n",
       " -0.9389621057431208]"
      ]
     },
     "execution_count": 757,
     "metadata": {},
     "output_type": "execute_result"
    }
   ],
   "source": [
    "## Exploding gradients\n",
    "\n",
    "# reset params to start to compare\n",
    "for p, ps in zip(n.params(), start_params_data):\n",
    "    p.data = ps\n",
    "\n",
    "[p.data for p in n.params()]"
   ]
  },
  {
   "cell_type": "code",
   "execution_count": 758,
   "id": "37c41b11-ce5a-47a5-87a1-954a36d483bf",
   "metadata": {},
   "outputs": [],
   "source": [
    "LR = 0.01\n",
    "iters = 1000\n",
    "losses = []\n",
    "grad_avgs = []\n",
    "\n",
    "for _ in range(iters):\n",
    "    ypred = [n(x) for x in xs]\n",
    "    # print(\"predictions:\\n\", ypred)\n",
    "    \n",
    "    # MSE loss\n",
    "    loss = sum([(ygt - yout)**2 for ygt, yout in zip(ypred, ys)])\n",
    "    # print(\"loss = \", loss)\n",
    "    losses.append(loss.data)\n",
    "    # EXPLODE THE GRADIENTS\n",
    "    # for p in n.params():\n",
    "    #     p.grad = 0.0\n",
    "    loss.backward()\n",
    "\n",
    "    \n",
    "    for p in n.params():\n",
    "        p.data -= p.grad * LR\n",
    "    \n",
    "    # what do the gradients look like: gradient averages?\n",
    "    grad_avg = sum([p.grad for p in n.params()]) / len(n.params())\n",
    "    grad_avgs.append(grad_avg)"
   ]
  },
  {
   "cell_type": "code",
   "execution_count": 759,
   "id": "c15a0fe1-b3a3-42e7-b422-8793005c8df1",
   "metadata": {},
   "outputs": [
    {
     "data": {
      "text/plain": [
       "[<matplotlib.lines.Line2D at 0x7729eea0bed0>]"
      ]
     },
     "execution_count": 759,
     "metadata": {},
     "output_type": "execute_result"
    },
    {
     "data": {
      "image/png": "[encoded data removed]",
      "text/plain": [
       "<Figure size 640x480 with 1 Axes>"
      ]
     },
     "metadata": {},
     "output_type": "display_data"
    }
   ],
   "source": [
    "plt.plot(losses)"
   ]
  },
  {
   "cell_type": "code",
   "execution_count": 760,
   "id": "72488cc8-370c-4a23-8652-698a0ab10c1d",
   "metadata": {},
   "outputs": [
    {
     "data": {
      "text/plain": [
       "[<matplotlib.lines.Line2D at 0x7729eeb83390>]"
      ]
     },
     "execution_count": 760,
     "metadata": {},
     "output_type": "execute_result"
    },
    {
     "data": {
      "image/png": "[encoded data removed]",
      "text/plain": [
       "<Figure size 640x480 with 1 Axes>"
      ]
     },
     "metadata": {},
     "output_type": "display_data"
    }
   ],
   "source": [
    "plt.plot(grad_avgs)"
   ]
  },
  {
   "cell_type": "code",
   "execution_count": 761,
   "id": "e204e948-9d0e-4ce1-af6c-b615980f2be4",
   "metadata": {},
   "outputs": [
    {
     "data": {
      "text/plain": [
       "(array([ 1.,  4., 18., 15.,  1.,  1.,  0.,  0.,  0.,  1.]),\n",
       " array([-29.42039729, -18.82790417,  -8.23541104,   2.35708208,\n",
       "         12.94957521,  23.54206833,  34.13456146,  44.72705458,\n",
       "         55.31954771,  65.91204083,  76.50453396]),\n",
       " <BarContainer object of 10 artists>)"
      ]
     },
     "execution_count": 761,
     "metadata": {},
     "output_type": "execute_result"
    },
    {
     "data": {
      "image/png": "[encoded data removed]",
      "text/plain": [
       "<Figure size 640x480 with 1 Axes>"
      ]
     },
     "metadata": {},
     "output_type": "display_data"
    }
   ],
   "source": [
    "plt.hist([p.grad for p in n.params()])"
   ]
  },
  {
   "cell_type": "code",
   "execution_count": null,
   "id": "416ada81-274e-48b5-91b7-2ec0047df31e",
   "metadata": {},
   "outputs": [],
   "source": []
  }
 ],
 "metadata": {
  "kernelspec": {
   "display_name": "Python 3 (ipykernel)",
   "language": "python",
   "name": "python3"
  },
  "language_info": {
   "codemirror_mode": {
    "name": "ipython",
    "version": 3
   },
   "file_extension": ".py",
   "mimetype": "text/x-python",
   "name": "python",
   "nbconvert_exporter": "python",
   "pygments_lexer": "ipython3",
   "version": "3.13.2"
  }
 },
 "nbformat": 4,
 "nbformat_minor": 5
}
